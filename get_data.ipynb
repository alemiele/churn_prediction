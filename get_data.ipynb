{
 "cells": [
  {
   "cell_type": "markdown",
   "metadata": {},
   "source": [
    "# Connecting and downloading the data"
   ]
  },
  {
   "cell_type": "code",
   "execution_count": 1,
   "metadata": {
    "collapsed": true
   },
   "outputs": [],
   "source": [
    "from azure.storage.blob import BlockBlobService"
   ]
  },
  {
   "cell_type": "code",
   "execution_count": 7,
   "metadata": {
    "collapsed": true
   },
   "outputs": [],
   "source": [
    "ACCOUNT_NAME = # account \n",
    "CONTAINER_NAME = # container \n",
    "ACCOUNT_KEY = # key"
   ]
  },
  {
   "cell_type": "code",
   "execution_count": 8,
   "metadata": {
    "collapsed": true
   },
   "outputs": [],
   "source": [
    "blobservice = BlockBlobService(account_key=ACCOUNT_KEY, account_name=ACCOUNT_NAME)"
   ]
  },
  {
   "cell_type": "code",
   "execution_count": 9,
   "metadata": {
    "collapsed": false
   },
   "outputs": [],
   "source": [
    "generator = blobservice.list_blobs(CONTAINER_NAME)"
   ]
  },
  {
   "cell_type": "code",
   "execution_count": 18,
   "metadata": {
    "collapsed": false
   },
   "outputs": [],
   "source": [
    "for blob in generator:\n",
    "    if 'customer/' in blob.name:\n",
    "        blobservice.get_blob_to_path(CONTAINER_NAME, blob.name, 'raw_data/customer.csv')\n",
    "    if 'receipts/' in blob.name:\n",
    "        blobservice.get_blob_to_path(CONTAINER_NAME, blob.name, 'raw_data/receipts.csv')\n",
    "    if 'returns/' in blob.name:\n",
    "        blobservice.get_blob_to_path(CONTAINER_NAME, blob.name, 'raw_data/returns.csv')\n",
    "    if 'sessionsummary/' in blob.name:\n",
    "        blobservice.get_blob_to_path(CONTAINER_NAME, blob.name, 'raw_data/sessionsummary.csv')"
   ]
  },
  {
   "cell_type": "code",
   "execution_count": null,
   "metadata": {
    "collapsed": true
   },
   "outputs": [],
   "source": []
  },
  {
   "cell_type": "markdown",
   "metadata": {},
   "source": [
    "## Adding headers and saving"
   ]
  },
  {
   "cell_type": "code",
   "execution_count": 28,
   "metadata": {
    "collapsed": true
   },
   "outputs": [],
   "source": [
    "import pandas as pd"
   ]
  },
  {
   "cell_type": "code",
   "execution_count": 29,
   "metadata": {
    "collapsed": true
   },
   "outputs": [],
   "source": [
    "df_customer = pd.read_csv('data/customer.csv', sep='\\t', header=None)\n",
    "df_receipts = pd.read_csv('data/receipts.csv', sep='\\t', header=None)\n",
    "df_returns = pd.read_csv('data/returns.csv', sep='\\t', header=None)\n",
    "df_sessionsummary = pd.read_csv('data/sessionsummary.csv', sep='\\t', header=None)"
   ]
  },
  {
   "cell_type": "code",
   "execution_count": 39,
   "metadata": {
    "collapsed": true
   },
   "outputs": [],
   "source": [
    "customer = ['customerId2',\n",
    "'churnlabel',\n",
    "'gender',\n",
    "'shippingCountry',\n",
    "'dateCreated',\n",
    "'yearOfBirth',\n",
    "'premier']\n",
    "\n",
    "receipts = ['customerId2',\n",
    "'productId',\n",
    "'divisionId',\n",
    "'sourceId',\n",
    "'itemQty',\n",
    "'signalDate',\n",
    "'receiptId',\n",
    "'price']\n",
    "\n",
    "returns = ['customerId2',\n",
    "'productId',\n",
    "'divisionId',\n",
    "'sourceId',\n",
    "'itemQty',\n",
    "'signalDate',\n",
    "'receiptId',\n",
    "'returnId',\n",
    "'returnAction',\n",
    "'returnReason']\n",
    "\n",
    "web = ['customerId2',\n",
    "'country',\n",
    "'startTime',\n",
    "'site',\n",
    "'pageViewCount',\n",
    "'nonPageViewEventsCount',\n",
    "'userAgent',\n",
    "'screenResolution',\n",
    "'browserSize',\n",
    "'productViewCount',\n",
    "'productViewsDistinctCount',\n",
    "'productsAddedToBagCount',\n",
    "'productsSavedForLaterFromProductPageCount',\n",
    "'productsSavedForLaterFromCategoryPageCount',\n",
    "'productsPurchasedDistinctCount',\n",
    "'productsPurchasedTotalCount']"
   ]
  },
  {
   "cell_type": "code",
   "execution_count": 49,
   "metadata": {
    "collapsed": false
   },
   "outputs": [],
   "source": [
    "df_customer.columns=customer\n",
    "df_customer.to_csv('data/customer.csv', index=None)"
   ]
  },
  {
   "cell_type": "code",
   "execution_count": 50,
   "metadata": {
    "collapsed": false
   },
   "outputs": [],
   "source": [
    "df_receipts.columns=receipts\n",
    "df_receipts.to_csv('data/receipts.csv', index=None)"
   ]
  },
  {
   "cell_type": "code",
   "execution_count": 51,
   "metadata": {
    "collapsed": false
   },
   "outputs": [],
   "source": [
    "df_returns.columns = returns\n",
    "df_returns.to_csv('data/returns.csv', index=None)"
   ]
  },
  {
   "cell_type": "code",
   "execution_count": 52,
   "metadata": {
    "collapsed": true
   },
   "outputs": [],
   "source": [
    "df_sessionsummary.columns=web\n",
    "df_sessionsummary.to_csv('data/sessionsummary.csv', index=None)"
   ]
  },
  {
   "cell_type": "code",
   "execution_count": null,
   "metadata": {
    "collapsed": true
   },
   "outputs": [],
   "source": []
  }
 ],
 "metadata": {
  "anaconda-cloud": {},
  "kernelspec": {
   "display_name": "Python [conda root]",
   "language": "python",
   "name": "conda-root-py"
  },
  "language_info": {
   "codemirror_mode": {
    "name": "ipython",
    "version": 2
   },
   "file_extension": ".py",
   "mimetype": "text/x-python",
   "name": "python",
   "nbconvert_exporter": "python",
   "pygments_lexer": "ipython2",
   "version": "2.7.12"
  }
 },
 "nbformat": 4,
 "nbformat_minor": 1
}
