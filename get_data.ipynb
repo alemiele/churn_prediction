{
 "cells": [
  {
   "cell_type": "markdown",
   "metadata": {},
   "source": [
    "# Connecting and downloading the data"
   ]
  },
  {
   "cell_type": "code",
   "execution_count": 1,
   "metadata": {
    "collapsed": true
   },
   "outputs": [],
   "source": [
    "from azure.storage.blob import BlockBlobService"
   ]
  },
  {
   "cell_type": "code",
   "execution_count": 7,
   "metadata": {
    "collapsed": true
   },
   "outputs": [],
   "source": [
    "ACCOUNT_NAME = 'asosdsrecruiting'\n",
    "CONTAINER_NAME = 'recruitingdata'\n",
    "ACCOUNT_KEY = '''QWGmgaTqn+Q+0YLT/47zM79HfNbSK0lX98wvoKqdCuGi7Q4inQGMKCpe+seF5qQ1xYEK\n",
    "j+6E5Zp6ZRELGYjSOg=='''"
   ]
  },
  {
   "cell_type": "code",
   "execution_count": 8,
   "metadata": {
    "collapsed": true
   },
   "outputs": [],
   "source": [
    "blobservice = BlockBlobService(account_key=ACCOUNT_KEY, account_name=ACCOUNT_NAME)"
   ]
  },
  {
   "cell_type": "code",
   "execution_count": 9,
   "metadata": {
    "collapsed": false
   },
   "outputs": [],
   "source": [
    "generator = blobservice.list_blobs(CONTAINER_NAME)"
   ]
  },
  {
   "cell_type": "code",
   "execution_count": 18,
   "metadata": {
    "collapsed": false
   },
   "outputs": [],
   "source": [
    "for blob in generator:\n",
    "    if 'customer/' in blob.name:\n",
    "        blobservice.get_blob_to_path(CONTAINER_NAME, blob.name, 'data/customer.csv')\n",
    "    if 'receipts/' in blob.name:\n",
    "        blobservice.get_blob_to_path(CONTAINER_NAME, blob.name, 'data/receipts.csv')\n",
    "    if 'returns/' in blob.name:\n",
    "        blobservice.get_blob_to_path(CONTAINER_NAME, blob.name, 'data/returns.csv')\n",
    "    if 'sessionsummary/' in blob.name:\n",
    "        blobservice.get_blob_to_path(CONTAINER_NAME, blob.name, 'data/sessionsummary.csv')"
   ]
  },
  {
   "cell_type": "code",
   "execution_count": null,
   "metadata": {
    "collapsed": true
   },
   "outputs": [],
   "source": []
  }
 ],
 "metadata": {
  "anaconda-cloud": {},
  "kernelspec": {
   "display_name": "Python [conda root]",
   "language": "python",
   "name": "conda-root-py"
  },
  "language_info": {
   "codemirror_mode": {
    "name": "ipython",
    "version": 2
   },
   "file_extension": ".py",
   "mimetype": "text/x-python",
   "name": "python",
   "nbconvert_exporter": "python",
   "pygments_lexer": "ipython2",
   "version": "2.7.12"
  }
 },
 "nbformat": 4,
 "nbformat_minor": 1
}
