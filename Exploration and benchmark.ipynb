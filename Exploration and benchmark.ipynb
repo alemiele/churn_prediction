{
 "cells": [
  {
   "cell_type": "code",
   "execution_count": 266,
   "metadata": {
    "collapsed": false
   },
   "outputs": [],
   "source": [
    "import pandas as pd\n",
    "from matplotlib import pyplot as plt\n",
    "import numpy as np\n",
    "import datetime\n",
    "from sklearn.ensemble import RandomForestClassifier\n",
    "from sklearn.metrics import confusion_matrix\n",
    "from sklearn.metrics import precision_score, recall_score\n",
    "% matplotlib inline\n",
    "plt.style.use('ggplot')"
   ]
  },
  {
   "cell_type": "code",
   "execution_count": 267,
   "metadata": {
    "collapsed": true
   },
   "outputs": [],
   "source": [
    "df_customer = pd.read_csv('data/customer.csv')"
   ]
  },
  {
   "cell_type": "code",
   "execution_count": 268,
   "metadata": {
    "collapsed": false
   },
   "outputs": [
    {
     "data": {
      "text/plain": [
       "Index([u'customerId2', u'churnlabel', u'gender', u'shippingCountry',\n",
       "       u'dateCreated', u'yearOfBirth', u'premier'],\n",
       "      dtype='object')"
      ]
     },
     "execution_count": 268,
     "metadata": {},
     "output_type": "execute_result"
    }
   ],
   "source": [
    "df_customer.columns"
   ]
  },
  {
   "cell_type": "code",
   "execution_count": 269,
   "metadata": {
    "collapsed": false
   },
   "outputs": [],
   "source": [
    "df_receipts = pd.read_csv('data/receipts.csv')"
   ]
  },
  {
   "cell_type": "code",
   "execution_count": 270,
   "metadata": {
    "collapsed": false
   },
   "outputs": [
    {
     "data": {
      "text/plain": [
       "Index([u'customerId2', u'productId', u'divisionId', u'sourceId', u'itemQty',\n",
       "       u'signalDate', u'receiptId', u'price'],\n",
       "      dtype='object')"
      ]
     },
     "execution_count": 270,
     "metadata": {},
     "output_type": "execute_result"
    }
   ],
   "source": [
    "df_receipts.columns"
   ]
  },
  {
   "cell_type": "code",
   "execution_count": 271,
   "metadata": {
    "collapsed": false
   },
   "outputs": [],
   "source": [
    "df_returns = pd.read_csv('data/returns.csv')"
   ]
  },
  {
   "cell_type": "code",
   "execution_count": 272,
   "metadata": {
    "collapsed": false
   },
   "outputs": [
    {
     "data": {
      "text/plain": [
       "Index([u'customerId2', u'productId', u'divisionId', u'sourceId', u'itemQty',\n",
       "       u'signalDate', u'receiptId', u'returnId', u'returnAction',\n",
       "       u'returnReason'],\n",
       "      dtype='object')"
      ]
     },
     "execution_count": 272,
     "metadata": {},
     "output_type": "execute_result"
    }
   ],
   "source": [
    "df_returns.columns"
   ]
  },
  {
   "cell_type": "code",
   "execution_count": 273,
   "metadata": {
    "collapsed": false
   },
   "outputs": [],
   "source": [
    "df_sessionsummary = pd.read_csv('data/sessionsummary.csv')"
   ]
  },
  {
   "cell_type": "code",
   "execution_count": 274,
   "metadata": {
    "collapsed": false
   },
   "outputs": [
    {
     "data": {
      "text/plain": [
       "Index([u'customerId2', u'country', u'startTime', u'site', u'pageViewCount',\n",
       "       u'nonPageViewEventsCount', u'userAgent', u'screenResolution',\n",
       "       u'browserSize', u'productViewCount', u'productViewsDistinctCount',\n",
       "       u'productsAddedToBagCount',\n",
       "       u'productsSavedForLaterFromProductPageCount',\n",
       "       u'productsSavedForLaterFromCategoryPageCount',\n",
       "       u'productsPurchasedDistinctCount', u'productsPurchasedTotalCount'],\n",
       "      dtype='object')"
      ]
     },
     "execution_count": 274,
     "metadata": {},
     "output_type": "execute_result"
    }
   ],
   "source": [
    "df_sessionsummary.columns"
   ]
  },
  {
   "cell_type": "markdown",
   "metadata": {},
   "source": [
    "# Customer data exploration"
   ]
  },
  {
   "cell_type": "code",
   "execution_count": 275,
   "metadata": {
    "collapsed": false
   },
   "outputs": [
    {
     "data": {
      "text/plain": [
       "(470169, 7)"
      ]
     },
     "execution_count": 275,
     "metadata": {},
     "output_type": "execute_result"
    }
   ],
   "source": [
    "df_customer.shape"
   ]
  },
  {
   "cell_type": "code",
   "execution_count": 276,
   "metadata": {
    "collapsed": false
   },
   "outputs": [
    {
     "data": {
      "text/html": [
       "<div>\n",
       "<table border=\"1\" class=\"dataframe\">\n",
       "  <thead>\n",
       "    <tr style=\"text-align: right;\">\n",
       "      <th></th>\n",
       "      <th>customerId2</th>\n",
       "      <th>churnlabel</th>\n",
       "      <th>gender</th>\n",
       "      <th>shippingCountry</th>\n",
       "      <th>dateCreated</th>\n",
       "      <th>yearOfBirth</th>\n",
       "      <th>premier</th>\n",
       "    </tr>\n",
       "  </thead>\n",
       "  <tbody>\n",
       "    <tr>\n",
       "      <th>0</th>\n",
       "      <td>1852043</td>\n",
       "      <td>2</td>\n",
       "      <td>F</td>\n",
       "      <td>UK</td>\n",
       "      <td>2005-03-02T19:35:50.000Z</td>\n",
       "      <td>1986</td>\n",
       "      <td>0</td>\n",
       "    </tr>\n",
       "    <tr>\n",
       "      <th>1</th>\n",
       "      <td>1825138</td>\n",
       "      <td>1</td>\n",
       "      <td>F</td>\n",
       "      <td>UK</td>\n",
       "      <td>2005-11-25T20:32:39.000Z</td>\n",
       "      <td>1981</td>\n",
       "      <td>0</td>\n",
       "    </tr>\n",
       "    <tr>\n",
       "      <th>2</th>\n",
       "      <td>863960</td>\n",
       "      <td>1</td>\n",
       "      <td>M</td>\n",
       "      <td>UK</td>\n",
       "      <td>2005-05-12T13:04:19.000Z</td>\n",
       "      <td>1983</td>\n",
       "      <td>0</td>\n",
       "    </tr>\n",
       "    <tr>\n",
       "      <th>3</th>\n",
       "      <td>585725</td>\n",
       "      <td>1</td>\n",
       "      <td>F</td>\n",
       "      <td>UK</td>\n",
       "      <td>2006-03-23T16:59:31.000Z</td>\n",
       "      <td>1976</td>\n",
       "      <td>6</td>\n",
       "    </tr>\n",
       "    <tr>\n",
       "      <th>4</th>\n",
       "      <td>1773666</td>\n",
       "      <td>2</td>\n",
       "      <td>F</td>\n",
       "      <td>UK</td>\n",
       "      <td>2006-04-20T18:42:44.000Z</td>\n",
       "      <td>1990</td>\n",
       "      <td>0</td>\n",
       "    </tr>\n",
       "  </tbody>\n",
       "</table>\n",
       "</div>"
      ],
      "text/plain": [
       "   customerId2  churnlabel gender shippingCountry               dateCreated  \\\n",
       "0      1852043           2      F              UK  2005-03-02T19:35:50.000Z   \n",
       "1      1825138           1      F              UK  2005-11-25T20:32:39.000Z   \n",
       "2       863960           1      M              UK  2005-05-12T13:04:19.000Z   \n",
       "3       585725           1      F              UK  2006-03-23T16:59:31.000Z   \n",
       "4      1773666           2      F              UK  2006-04-20T18:42:44.000Z   \n",
       "\n",
       "   yearOfBirth  premier  \n",
       "0         1986        0  \n",
       "1         1981        0  \n",
       "2         1983        0  \n",
       "3         1976        6  \n",
       "4         1990        0  "
      ]
     },
     "execution_count": 276,
     "metadata": {},
     "output_type": "execute_result"
    }
   ],
   "source": [
    "df_customer.head()"
   ]
  },
  {
   "cell_type": "code",
   "execution_count": 277,
   "metadata": {
    "collapsed": false
   },
   "outputs": [
    {
     "name": "stdout",
     "output_type": "stream",
     "text": [
      "('customerId2', 470169, 0)\n",
      "('churnlabel', 2, 0)\n",
      "('gender', 2, 0)\n",
      "('shippingCountry', 190, 11)\n",
      "('dateCreated', 470109, 0)\n",
      "('yearOfBirth', 125, 0)\n",
      "('premier', 7, 0)\n"
     ]
    }
   ],
   "source": [
    "for k in df_customer.keys():\n",
    "    print(k, df_customer[k].nunique(), df_customer[k].isnull().sum())"
   ]
  },
  {
   "cell_type": "code",
   "execution_count": 278,
   "metadata": {
    "collapsed": true
   },
   "outputs": [],
   "source": [
    "df_customer['Age'] = 2017-df_customer['yearOfBirth']"
   ]
  },
  {
   "cell_type": "code",
   "execution_count": 279,
   "metadata": {
    "collapsed": false
   },
   "outputs": [],
   "source": [
    "df_customer['subscription_date'] = pd.to_datetime(df_customer['dateCreated']).dt.date"
   ]
  },
  {
   "cell_type": "code",
   "execution_count": 280,
   "metadata": {
    "collapsed": false
   },
   "outputs": [],
   "source": [
    "def barchart(df, column, title='', labels=-1, vertical=False):\n",
    "    if labels==-1:\n",
    "        labels = df[column].unique()\n",
    "    values = df[column].value_counts()/float(len(df))*100\n",
    "    \n",
    "    #for v in df[column].unique():\n",
    "    #    values.append((df[column]==v).sum()/float(len(df))*100)\n",
    "    if vertical:\n",
    "        fig, ax = plt.subplots(figsize=(8,10))\n",
    "        ax.barh(range(len(values)), values[::-1])\n",
    "        ax.set_xlim(0, 100) \n",
    "        ax.set_yticks(np.arange(0.4, len(labels)+0.4, 1))\n",
    "        ax.set_yticklabels(labels[::-1])\n",
    "    else:\n",
    "        fig, ax = plt.subplots(figsize=(5,3))\n",
    "        ax.bar(range(len(values)), values)\n",
    "        ax.set_ylim(0, 100) \n",
    "        ax.set_xticks(np.arange(0.4, len(labels)+0.4, 1))\n",
    "        ax.set_xticklabels(labels)\n",
    "    \n",
    "    ax.set_title(title)"
   ]
  },
  {
   "cell_type": "code",
   "execution_count": 281,
   "metadata": {
    "collapsed": false
   },
   "outputs": [
    {
     "data": {
      "text/plain": [
       "array([355708, 114461])"
      ]
     },
     "execution_count": 281,
     "metadata": {},
     "output_type": "execute_result"
    }
   ],
   "source": [
    "df_customer.gender.value_counts().values"
   ]
  },
  {
   "cell_type": "code",
   "execution_count": 282,
   "metadata": {
    "collapsed": false
   },
   "outputs": [
    {
     "data": {
      "image/png": "[encoded data removed]",
      "text/plain": [
       "<matplotlib.figure.Figure at 0x1399d0ad0>"
      ]
     },
     "metadata": {},
     "output_type": "display_data"
    }
   ],
   "source": [
    "barchart(df_customer, 'churnlabel', title='Churn distribution')"
   ]
  },
  {
   "cell_type": "code",
   "execution_count": 283,
   "metadata": {
    "collapsed": false
   },
   "outputs": [
    {
     "data": {
      "image/png": "[encoded data removed]",
      "text/plain": [
       "<matplotlib.figure.Figure at 0x11c9a8790>"
      ]
     },
     "metadata": {},
     "output_type": "display_data"
    }
   ],
   "source": [
    "barchart(df_customer, 'gender', title='Gender distribution')"
   ]
  },
  {
   "cell_type": "code",
   "execution_count": 284,
   "metadata": {
    "collapsed": false
   },
   "outputs": [
    {
     "data": {
      "text/plain": [
       "<matplotlib.text.Text at 0x11e0730d0>"
      ]
     },
     "execution_count": 284,
     "metadata": {},
     "output_type": "execute_result"
    },
    {
     "data": {
      "image/png": "[encoded data removed]",
      "text/plain": [
       "<matplotlib.figure.Figure at 0x115e72150>"
      ]
     },
     "metadata": {},
     "output_type": "display_data"
    }
   ],
   "source": [
    "df_customer.Age.hist()\n",
    "plt.title('Age distribution')"
   ]
  },
  {
   "cell_type": "code",
   "execution_count": 285,
   "metadata": {
    "collapsed": false
   },
   "outputs": [
    {
     "data": {
      "text/plain": [
       "1434"
      ]
     },
     "execution_count": 285,
     "metadata": {},
     "output_type": "execute_result"
    }
   ],
   "source": [
    "# removing outliers\n",
    "sum(df_customer.Age>100)\n"
   ]
  },
  {
   "cell_type": "code",
   "execution_count": 286,
   "metadata": {
    "collapsed": true
   },
   "outputs": [],
   "source": [
    "big = df_customer.groupby('shippingCountry').customerId2.count()"
   ]
  },
  {
   "cell_type": "code",
   "execution_count": 287,
   "metadata": {
    "collapsed": true
   },
   "outputs": [],
   "source": [
    "df_customer_big = df_customer[df_customer.shippingCountry.isin(big[big>2000].keys())]"
   ]
  },
  {
   "cell_type": "code",
   "execution_count": 288,
   "metadata": {
    "collapsed": false
   },
   "outputs": [
    {
     "name": "stdout",
     "output_type": "stream",
     "text": [
      "Discarding 8.14% of data points\n"
     ]
    }
   ],
   "source": [
    "df_customer_big = df_customer_big[(df_customer_big.Age>=15) & (df_customer_big.Age<80)]\n",
    "print('Discarding {:.2f}% of data points'.format((1-len(df_customer_big)/float(len(df_customer)))*100))"
   ]
  },
  {
   "cell_type": "code",
   "execution_count": 289,
   "metadata": {
    "collapsed": false,
    "scrolled": false
   },
   "outputs": [
    {
     "data": {
      "image/png": "[encoded data removed]",
      "text/plain": [
       "<matplotlib.figure.Figure at 0x11642f650>"
      ]
     },
     "metadata": {},
     "output_type": "display_data"
    }
   ],
   "source": [
    "barchart(df_customer_big, 'shippingCountry', title='Country distribution', vertical=True)"
   ]
  },
  {
   "cell_type": "code",
   "execution_count": 290,
   "metadata": {
    "collapsed": false
   },
   "outputs": [],
   "source": [
    "idx = np.random.permutation(df_customer_big.shape[0])"
   ]
  },
  {
   "cell_type": "markdown",
   "metadata": {},
   "source": [
    "# Can we say something with this really basic info?"
   ]
  },
  {
   "cell_type": "code",
   "execution_count": 291,
   "metadata": {
    "collapsed": true
   },
   "outputs": [],
   "source": [
    "df_features = df_customer_big.copy()\n",
    "\n",
    "df_features.loc[df_features.gender=='F', 'gender'] = 0\n",
    "df_features.loc[df_features.gender=='M', 'gender'] = 1\n",
    "\n",
    "df_features.drop('yearOfBirth', axis=1, inplace=True)\n",
    "\n",
    "df_features.drop('dateCreated', axis=1, inplace=True)\n",
    "\n",
    "#df_features['n_days'] = (datetime.date.today()-df_features['subscription_date']).dt.days\n",
    "\n",
    "#df_features.n_days.max()\n",
    "\n",
    "#df_features=df_features[df_features.n_days<10000]\n",
    "\n",
    "df_features.drop('subscription_date', axis=1, inplace=True)\n",
    "df_features.drop('customerId2', axis=1, inplace=True)\n",
    "\n",
    "countrydum = pd.get_dummies(df_features['shippingCountry'])\n",
    "df_features = pd.concat([df_features, countrydum],axis=1)\n",
    "\n",
    "df_features.drop('shippingCountry', axis=1, inplace=True)\n",
    "\n",
    "premierdum = pd.get_dummies(df_features.premier)\n",
    "\n",
    "df_features = pd.concat([df_features, premierdum],axis=1)\n",
    "\n",
    "df_features.drop('premier', axis=1, inplace=True)\n",
    "df_features.fillna(0, inplace=True)"
   ]
  },
  {
   "cell_type": "code",
   "execution_count": 292,
   "metadata": {
    "collapsed": false
   },
   "outputs": [
    {
     "data": {
      "text/html": [
       "<div>\n",
       "<table border=\"1\" class=\"dataframe\">\n",
       "  <thead>\n",
       "    <tr style=\"text-align: right;\">\n",
       "      <th></th>\n",
       "      <th>churnlabel</th>\n",
       "      <th>gender</th>\n",
       "      <th>Age</th>\n",
       "      <th>Australia</th>\n",
       "      <th>Belgium</th>\n",
       "      <th>Canada</th>\n",
       "      <th>Denmark</th>\n",
       "      <th>France</th>\n",
       "      <th>Germany</th>\n",
       "      <th>Hong Kong</th>\n",
       "      <th>...</th>\n",
       "      <th>Sweden</th>\n",
       "      <th>UK</th>\n",
       "      <th>United States</th>\n",
       "      <th>0</th>\n",
       "      <th>1</th>\n",
       "      <th>2</th>\n",
       "      <th>3</th>\n",
       "      <th>4</th>\n",
       "      <th>5</th>\n",
       "      <th>6</th>\n",
       "    </tr>\n",
       "  </thead>\n",
       "  <tbody>\n",
       "    <tr>\n",
       "      <th>0</th>\n",
       "      <td>2</td>\n",
       "      <td>0</td>\n",
       "      <td>31</td>\n",
       "      <td>0.0</td>\n",
       "      <td>0.0</td>\n",
       "      <td>0.0</td>\n",
       "      <td>0.0</td>\n",
       "      <td>0.0</td>\n",
       "      <td>0.0</td>\n",
       "      <td>0.0</td>\n",
       "      <td>...</td>\n",
       "      <td>0.0</td>\n",
       "      <td>1.0</td>\n",
       "      <td>0.0</td>\n",
       "      <td>1.0</td>\n",
       "      <td>0.0</td>\n",
       "      <td>0.0</td>\n",
       "      <td>0.0</td>\n",
       "      <td>0.0</td>\n",
       "      <td>0.0</td>\n",
       "      <td>0.0</td>\n",
       "    </tr>\n",
       "    <tr>\n",
       "      <th>1</th>\n",
       "      <td>1</td>\n",
       "      <td>0</td>\n",
       "      <td>36</td>\n",
       "      <td>0.0</td>\n",
       "      <td>0.0</td>\n",
       "      <td>0.0</td>\n",
       "      <td>0.0</td>\n",
       "      <td>0.0</td>\n",
       "      <td>0.0</td>\n",
       "      <td>0.0</td>\n",
       "      <td>...</td>\n",
       "      <td>0.0</td>\n",
       "      <td>1.0</td>\n",
       "      <td>0.0</td>\n",
       "      <td>1.0</td>\n",
       "      <td>0.0</td>\n",
       "      <td>0.0</td>\n",
       "      <td>0.0</td>\n",
       "      <td>0.0</td>\n",
       "      <td>0.0</td>\n",
       "      <td>0.0</td>\n",
       "    </tr>\n",
       "    <tr>\n",
       "      <th>2</th>\n",
       "      <td>1</td>\n",
       "      <td>1</td>\n",
       "      <td>34</td>\n",
       "      <td>0.0</td>\n",
       "      <td>0.0</td>\n",
       "      <td>0.0</td>\n",
       "      <td>0.0</td>\n",
       "      <td>0.0</td>\n",
       "      <td>0.0</td>\n",
       "      <td>0.0</td>\n",
       "      <td>...</td>\n",
       "      <td>0.0</td>\n",
       "      <td>1.0</td>\n",
       "      <td>0.0</td>\n",
       "      <td>1.0</td>\n",
       "      <td>0.0</td>\n",
       "      <td>0.0</td>\n",
       "      <td>0.0</td>\n",
       "      <td>0.0</td>\n",
       "      <td>0.0</td>\n",
       "      <td>0.0</td>\n",
       "    </tr>\n",
       "    <tr>\n",
       "      <th>3</th>\n",
       "      <td>1</td>\n",
       "      <td>0</td>\n",
       "      <td>41</td>\n",
       "      <td>0.0</td>\n",
       "      <td>0.0</td>\n",
       "      <td>0.0</td>\n",
       "      <td>0.0</td>\n",
       "      <td>0.0</td>\n",
       "      <td>0.0</td>\n",
       "      <td>0.0</td>\n",
       "      <td>...</td>\n",
       "      <td>0.0</td>\n",
       "      <td>1.0</td>\n",
       "      <td>0.0</td>\n",
       "      <td>0.0</td>\n",
       "      <td>0.0</td>\n",
       "      <td>0.0</td>\n",
       "      <td>0.0</td>\n",
       "      <td>0.0</td>\n",
       "      <td>0.0</td>\n",
       "      <td>1.0</td>\n",
       "    </tr>\n",
       "    <tr>\n",
       "      <th>4</th>\n",
       "      <td>2</td>\n",
       "      <td>0</td>\n",
       "      <td>27</td>\n",
       "      <td>0.0</td>\n",
       "      <td>0.0</td>\n",
       "      <td>0.0</td>\n",
       "      <td>0.0</td>\n",
       "      <td>0.0</td>\n",
       "      <td>0.0</td>\n",
       "      <td>0.0</td>\n",
       "      <td>...</td>\n",
       "      <td>0.0</td>\n",
       "      <td>1.0</td>\n",
       "      <td>0.0</td>\n",
       "      <td>1.0</td>\n",
       "      <td>0.0</td>\n",
       "      <td>0.0</td>\n",
       "      <td>0.0</td>\n",
       "      <td>0.0</td>\n",
       "      <td>0.0</td>\n",
       "      <td>0.0</td>\n",
       "    </tr>\n",
       "  </tbody>\n",
       "</table>\n",
       "<p>5 rows × 27 columns</p>\n",
       "</div>"
      ],
      "text/plain": [
       "   churnlabel  gender  Age  Australia  Belgium  Canada  Denmark  France  \\\n",
       "0           2       0   31        0.0      0.0     0.0      0.0     0.0   \n",
       "1           1       0   36        0.0      0.0     0.0      0.0     0.0   \n",
       "2           1       1   34        0.0      0.0     0.0      0.0     0.0   \n",
       "3           1       0   41        0.0      0.0     0.0      0.0     0.0   \n",
       "4           2       0   27        0.0      0.0     0.0      0.0     0.0   \n",
       "\n",
       "   Germany  Hong Kong ...   Sweden   UK  United States    0    1    2    3  \\\n",
       "0      0.0        0.0 ...      0.0  1.0            0.0  1.0  0.0  0.0  0.0   \n",
       "1      0.0        0.0 ...      0.0  1.0            0.0  1.0  0.0  0.0  0.0   \n",
       "2      0.0        0.0 ...      0.0  1.0            0.0  1.0  0.0  0.0  0.0   \n",
       "3      0.0        0.0 ...      0.0  1.0            0.0  0.0  0.0  0.0  0.0   \n",
       "4      0.0        0.0 ...      0.0  1.0            0.0  1.0  0.0  0.0  0.0   \n",
       "\n",
       "     4    5    6  \n",
       "0  0.0  0.0  0.0  \n",
       "1  0.0  0.0  0.0  \n",
       "2  0.0  0.0  0.0  \n",
       "3  0.0  0.0  1.0  \n",
       "4  0.0  0.0  0.0  \n",
       "\n",
       "[5 rows x 27 columns]"
      ]
     },
     "execution_count": 292,
     "metadata": {},
     "output_type": "execute_result"
    }
   ],
   "source": [
    "df_features.head()"
   ]
  },
  {
   "cell_type": "code",
   "execution_count": 293,
   "metadata": {
    "collapsed": false
   },
   "outputs": [],
   "source": [
    "Y = np.array(df_features['churnlabel'])\n",
    "X = np.array(df_features.drop('churnlabel', axis=1)/df_features.drop('churnlabel', axis=1).max())\n",
    "\n",
    "\n",
    "\n",
    "ntrain = int(2*len(idx)/3)\n",
    "xtrain = X[idx[:ntrain], :]\n",
    "ytrain = Y[idx[:ntrain]]\n",
    "xtest = X[idx[ntrain:], :]\n",
    "ytest = Y[idx[ntrain:]]\n",
    "\n",
    "clf = RandomForestClassifier()\n",
    "\n",
    "clf.fit(xtrain, ytrain)\n",
    "\n",
    "pred = clf.predict(xtest)"
   ]
  },
  {
   "cell_type": "code",
   "execution_count": 294,
   "metadata": {
    "collapsed": false
   },
   "outputs": [
    {
     "data": {
      "text/plain": [
       "array([[50853, 24796],\n",
       "       [34063, 34248]])"
      ]
     },
     "execution_count": 294,
     "metadata": {},
     "output_type": "execute_result"
    }
   ],
   "source": [
    "confusion_matrix(ytest, pred)"
   ]
  },
  {
   "cell_type": "code",
   "execution_count": 298,
   "metadata": {
    "collapsed": false
   },
   "outputs": [
    {
     "data": {
      "text/plain": [
       "0.59114337315921084"
      ]
     },
     "execution_count": 298,
     "metadata": {},
     "output_type": "execute_result"
    }
   ],
   "source": [
    "1-sum(np.abs(ytest-pred))/float(len(pred))"
   ]
  },
  {
   "cell_type": "code",
   "execution_count": 299,
   "metadata": {
    "collapsed": false
   },
   "outputs": [
    {
     "data": {
      "text/plain": [
       "0.59886240520043332"
      ]
     },
     "execution_count": 299,
     "metadata": {},
     "output_type": "execute_result"
    }
   ],
   "source": [
    "precision_score(ytest, pred)"
   ]
  },
  {
   "cell_type": "code",
   "execution_count": 300,
   "metadata": {
    "collapsed": false
   },
   "outputs": [
    {
     "data": {
      "text/plain": [
       "0.67222303004666284"
      ]
     },
     "execution_count": 300,
     "metadata": {},
     "output_type": "execute_result"
    }
   ],
   "source": [
    "recall_score(ytest, pred)"
   ]
  },
  {
   "cell_type": "code",
   "execution_count": 111,
   "metadata": {
    "collapsed": false
   },
   "outputs": [
    {
     "data": {
      "text/plain": [
       "<matplotlib.text.Text at 0x11ebed810>"
      ]
     },
     "execution_count": 111,
     "metadata": {},
     "output_type": "execute_result"
    },
    {
     "data": {
      "image/png": "[encoded data removed]",
      "text/plain": [
       "<matplotlib.figure.Figure at 0x11ed1fa50>"
      ]
     },
     "metadata": {},
     "output_type": "display_data"
    }
   ],
   "source": [
    "fig, ax = plt.subplots(figsize=(10, 8))\n",
    "ax.barh(range(len(clf.feature_importances_)), clf.feature_importances_)\n",
    "ax.set_yticks(range(len(df_features.columns[1:])))\n",
    "ax.set_yticklabels(df_features.columns[1:])\n",
    "ax.set_title('Feature importance')"
   ]
  }
 ],
 "metadata": {
  "anaconda-cloud": {},
  "kernelspec": {
   "display_name": "Python [conda root]",
   "language": "python",
   "name": "conda-root-py"
  },
  "language_info": {
   "codemirror_mode": {
    "name": "ipython",
    "version": 2
   },
   "file_extension": ".py",
   "mimetype": "text/x-python",
   "name": "python",
   "nbconvert_exporter": "python",
   "pygments_lexer": "ipython2",
   "version": "2.7.12"
  }
 },
 "nbformat": 4,
 "nbformat_minor": 1
}
